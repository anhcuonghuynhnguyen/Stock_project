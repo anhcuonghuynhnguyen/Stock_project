{
 "cells": [
  {
   "cell_type": "code",
   "execution_count": 35,
   "metadata": {},
   "outputs": [],
   "source": [
    "import pandas as pd\n",
    "import json\n",
    "# Đọc file JSON vào DataFrame\n",
    "data = pd.read_json('Regions_Markets\\list_regions_markets.json')['markets']"
   ]
  },
  {
   "cell_type": "code",
   "execution_count": 40,
   "metadata": {},
   "outputs": [
    {
     "data": {
      "text/html": [
       "<div>\n",
       "<style scoped>\n",
       "    .dataframe tbody tr th:only-of-type {\n",
       "        vertical-align: middle;\n",
       "    }\n",
       "\n",
       "    .dataframe tbody tr th {\n",
       "        vertical-align: top;\n",
       "    }\n",
       "\n",
       "    .dataframe thead th {\n",
       "        text-align: right;\n",
       "    }\n",
       "</style>\n",
       "<table border=\"1\" class=\"dataframe\">\n",
       "  <thead>\n",
       "    <tr style=\"text-align: right;\">\n",
       "      <th></th>\n",
       "      <th>markets</th>\n",
       "    </tr>\n",
       "  </thead>\n",
       "  <tbody>\n",
       "    <tr>\n",
       "      <th>0</th>\n",
       "      <td>{'market_type': 'Equity', 'region': 'United St...</td>\n",
       "    </tr>\n",
       "    <tr>\n",
       "      <th>1</th>\n",
       "      <td>{'market_type': 'Equity', 'region': 'Canada', ...</td>\n",
       "    </tr>\n",
       "    <tr>\n",
       "      <th>2</th>\n",
       "      <td>{'market_type': 'Equity', 'region': 'United Ki...</td>\n",
       "    </tr>\n",
       "    <tr>\n",
       "      <th>3</th>\n",
       "      <td>{'market_type': 'Equity', 'region': 'Germany',...</td>\n",
       "    </tr>\n",
       "    <tr>\n",
       "      <th>4</th>\n",
       "      <td>{'market_type': 'Equity', 'region': 'France', ...</td>\n",
       "    </tr>\n",
       "    <tr>\n",
       "      <th>5</th>\n",
       "      <td>{'market_type': 'Equity', 'region': 'Spain', '...</td>\n",
       "    </tr>\n",
       "    <tr>\n",
       "      <th>6</th>\n",
       "      <td>{'market_type': 'Equity', 'region': 'Portugal'...</td>\n",
       "    </tr>\n",
       "    <tr>\n",
       "      <th>7</th>\n",
       "      <td>{'market_type': 'Equity', 'region': 'Japan', '...</td>\n",
       "    </tr>\n",
       "    <tr>\n",
       "      <th>8</th>\n",
       "      <td>{'market_type': 'Equity', 'region': 'India', '...</td>\n",
       "    </tr>\n",
       "    <tr>\n",
       "      <th>9</th>\n",
       "      <td>{'market_type': 'Equity', 'region': 'Mainland ...</td>\n",
       "    </tr>\n",
       "    <tr>\n",
       "      <th>10</th>\n",
       "      <td>{'market_type': 'Equity', 'region': 'Hong Kong...</td>\n",
       "    </tr>\n",
       "    <tr>\n",
       "      <th>11</th>\n",
       "      <td>{'market_type': 'Equity', 'region': 'Brazil', ...</td>\n",
       "    </tr>\n",
       "    <tr>\n",
       "      <th>12</th>\n",
       "      <td>{'market_type': 'Equity', 'region': 'Mexico', ...</td>\n",
       "    </tr>\n",
       "    <tr>\n",
       "      <th>13</th>\n",
       "      <td>{'market_type': 'Equity', 'region': 'South Afr...</td>\n",
       "    </tr>\n",
       "    <tr>\n",
       "      <th>14</th>\n",
       "      <td>{'market_type': 'Forex', 'region': 'Global', '...</td>\n",
       "    </tr>\n",
       "    <tr>\n",
       "      <th>15</th>\n",
       "      <td>{'market_type': 'Cryptocurrency', 'region': 'G...</td>\n",
       "    </tr>\n",
       "  </tbody>\n",
       "</table>\n",
       "</div>"
      ],
      "text/plain": [
       "                                              markets\n",
       "0   {'market_type': 'Equity', 'region': 'United St...\n",
       "1   {'market_type': 'Equity', 'region': 'Canada', ...\n",
       "2   {'market_type': 'Equity', 'region': 'United Ki...\n",
       "3   {'market_type': 'Equity', 'region': 'Germany',...\n",
       "4   {'market_type': 'Equity', 'region': 'France', ...\n",
       "5   {'market_type': 'Equity', 'region': 'Spain', '...\n",
       "6   {'market_type': 'Equity', 'region': 'Portugal'...\n",
       "7   {'market_type': 'Equity', 'region': 'Japan', '...\n",
       "8   {'market_type': 'Equity', 'region': 'India', '...\n",
       "9   {'market_type': 'Equity', 'region': 'Mainland ...\n",
       "10  {'market_type': 'Equity', 'region': 'Hong Kong...\n",
       "11  {'market_type': 'Equity', 'region': 'Brazil', ...\n",
       "12  {'market_type': 'Equity', 'region': 'Mexico', ...\n",
       "13  {'market_type': 'Equity', 'region': 'South Afr...\n",
       "14  {'market_type': 'Forex', 'region': 'Global', '...\n",
       "15  {'market_type': 'Cryptocurrency', 'region': 'G..."
      ]
     },
     "execution_count": 40,
     "metadata": {},
     "output_type": "execute_result"
    }
   ],
   "source": [
    "data1 = data.to_frame()\n",
    "data1"
   ]
  },
  {
   "cell_type": "code",
   "execution_count": 15,
   "metadata": {},
   "outputs": [
    {
     "data": {
      "text/plain": [
       "sicSector\n",
       "                                                                   4724\n",
       "Agriculture Forestry And Fishing                                     23\n",
       "Construction                                                         84\n",
       "Finance Insurance And Real Estate                                  2890\n",
       "Manufacturing                                                      2257\n",
       "Mining                                                              752\n",
       "Retail Trade                                                        372\n",
       "Services                                                           1092\n",
       "Transportation Communications Electric Gas And Sanitary Service    1044\n",
       "Wholesale Trade                                                     172\n",
       "Name: sicIndustry, dtype: int64"
      ]
     },
     "execution_count": 15,
     "metadata": {},
     "output_type": "execute_result"
    }
   ],
   "source": [
    "sector_counts = data.groupby('sicSector')['sicIndustry'].count()\n",
    "sector_counts"
   ]
  },
  {
   "cell_type": "code",
   "execution_count": 16,
   "metadata": {},
   "outputs": [
    {
     "data": {
      "text/plain": [
       "sicIndustry\n",
       "                                                            4724\n",
       "Abrasive Asbestos & Misc Nonmetallic Mineral Prods             5\n",
       "Accident & Health Insurance                                   24\n",
       "Adhesives & Sealants                                           1\n",
       "Agricultural Chemicals                                        21\n",
       "                                                            ... \n",
       "Wholesale-Professional & Commercial Equipment & Supplies       4\n",
       "Women'S Misses' And Juniors Outerwear                         13\n",
       "Women'S Misses' Children'S & Infants' Undergarments            8\n",
       "Wood Household Furniture (No Upholstered)                      3\n",
       "X-Ray Apparatus & Tubes & Related Irradiation Apparatus        7\n",
       "Name: sicSector, Length: 421, dtype: int64"
      ]
     },
     "execution_count": 16,
     "metadata": {},
     "output_type": "execute_result"
    }
   ],
   "source": [
    "industry_counts = data.groupby('sicIndustry')['sicSector'].count()\n",
    "industry_counts"
   ]
  },
  {
   "cell_type": "code",
   "execution_count": 29,
   "metadata": {},
   "outputs": [
    {
     "data": {
      "text/plain": [
       "array([], dtype=object)"
      ]
     },
     "execution_count": 29,
     "metadata": {},
     "output_type": "execute_result"
    }
   ],
   "source": [
    "# Lọc các hàng trong cột 'B' bằng giá trị 'a' và hiển thị giá trị của cột 'A'\n",
    "df_filtered = data.loc[data['exchange'] == 'BATS', 'currency'].unique()\n",
    "\n",
    "# Hiển thị kết quả\n",
    "df_filtered"
   ]
  }
 ],
 "metadata": {
  "kernelspec": {
   "display_name": "Python 3",
   "language": "python",
   "name": "python3"
  },
  "language_info": {
   "codemirror_mode": {
    "name": "ipython",
    "version": 3
   },
   "file_extension": ".py",
   "mimetype": "text/x-python",
   "name": "python",
   "nbconvert_exporter": "python",
   "pygments_lexer": "ipython3",
   "version": "3.10.2"
  }
 },
 "nbformat": 4,
 "nbformat_minor": 2
}
